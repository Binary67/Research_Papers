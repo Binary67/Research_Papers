{
  "nbformat": 4,
  "nbformat_minor": 0,
  "metadata": {
    "colab": {
      "name": "Titanic - Without Deep Features Synthesis.ipynb",
      "provenance": [],
      "collapsed_sections": []
    },
    "kernelspec": {
      "name": "python3",
      "display_name": "Python 3"
    }
  },
  "cells": [
    {
      "cell_type": "code",
      "metadata": {
        "id": "-d3WU-3RmjBE",
        "colab_type": "code",
        "colab": {}
      },
      "source": [
        "import pandas as pd\n",
        "import numpy as np\n",
        "import featuretools as ft\n",
        "from sklearn.linear_model import LogisticRegression\n",
        "from sklearn import preprocessing\n",
        "from sklearn.model_selection import train_test_split\n",
        "import math\n",
        "import random\n",
        "from sklearn import svm"
      ],
      "execution_count": 0,
      "outputs": []
    },
    {
      "cell_type": "code",
      "metadata": {
        "id": "G8CL2gACmqjr",
        "colab_type": "code",
        "colab": {}
      },
      "source": [
        "TRAIN = pd.read_csv('/content/drive/My Drive/Machine Learning/Deep Feature Synthesis/train.csv')\n",
        "TEST = pd.read_csv('/content/drive/My Drive/Machine Learning/Deep Feature Synthesis/test.csv')"
      ],
      "execution_count": 0,
      "outputs": []
    },
    {
      "cell_type": "code",
      "metadata": {
        "id": "X7dh3nDhmsnH",
        "colab_type": "code",
        "colab": {}
      },
      "source": [
        "def Preprocessing(DATASET):\n",
        "    DATASET = DATASET.fillna(DATASET.mean())\n",
        "    DATASET = DATASET.drop(columns = ['Cabin', 'Name', 'Ticket'])\n",
        "    DATASET = DATASET.dropna()\n",
        "    DATASET['Sex'].replace(['female', 'male'], [0, 1], inplace = True)\n",
        "    DATASET['Embarked'].replace(['S','C', 'Q'], [0, 1, 2], inplace = True)\n",
        "    print(DATASET.isnull().sum())\n",
        "    print(DATASET.shape)\n",
        "\n",
        "    return DATASET"
      ],
      "execution_count": 0,
      "outputs": []
    },
    {
      "cell_type": "code",
      "metadata": {
        "id": "ca39f0Z5m1Ur",
        "colab_type": "code",
        "colab": {
          "base_uri": "https://localhost:8080/",
          "height": 204
        },
        "outputId": "d751d54f-e772-4cfe-bbbf-c1e71676ea62"
      },
      "source": [
        "TRAIN_PROCESSED = Preprocessing(TRAIN)\n",
        "Y_TRAIN = TRAIN_PROCESSED['Survived']\n",
        "X_TRAIN = TRAIN_PROCESSED.drop(columns = ['Survived'])\n",
        "X, X_TEST, Y, Y_TEST = train_test_split(X_TRAIN, Y_TRAIN, test_size = 0.33, random_state = 42)"
      ],
      "execution_count": 9,
      "outputs": [
        {
          "output_type": "stream",
          "text": [
            "PassengerId    0\n",
            "Survived       0\n",
            "Pclass         0\n",
            "Sex            0\n",
            "Age            0\n",
            "SibSp          0\n",
            "Parch          0\n",
            "Fare           0\n",
            "Embarked       0\n",
            "dtype: int64\n",
            "(889, 9)\n"
          ],
          "name": "stdout"
        }
      ]
    },
    {
      "cell_type": "code",
      "metadata": {
        "id": "-IEf1DNIm4w-",
        "colab_type": "code",
        "colab": {
          "base_uri": "https://localhost:8080/",
          "height": 34
        },
        "outputId": "b4d65220-4682-446b-8fe9-b4b6921cf6c3"
      },
      "source": [
        "CLF = svm.SVC()\n",
        "CLF.fit(X, Y)\n",
        "CLF.score(X_TEST, Y_TEST)"
      ],
      "execution_count": 10,
      "outputs": [
        {
          "output_type": "execute_result",
          "data": {
            "text/plain": [
              "0.6428571428571429"
            ]
          },
          "metadata": {
            "tags": []
          },
          "execution_count": 10
        }
      ]
    },
    {
      "cell_type": "code",
      "metadata": {
        "id": "NkMMJRJgnXa7",
        "colab_type": "code",
        "colab": {}
      },
      "source": [
        ""
      ],
      "execution_count": 0,
      "outputs": []
    }
  ]
}