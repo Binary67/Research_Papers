{
  "nbformat": 4,
  "nbformat_minor": 0,
  "metadata": {
    "colab": {
      "name": "Titanic Prediction.ipynb",
      "provenance": [],
      "collapsed_sections": []
    },
    "kernelspec": {
      "name": "python3",
      "display_name": "Python 3"
    },
    "accelerator": "GPU"
  },
  "cells": [
    {
      "cell_type": "code",
      "metadata": {
        "id": "nzKp8DX7oYg8",
        "colab_type": "code",
        "colab": {}
      },
      "source": [
        "# ! pip install -q kaggle"
      ],
      "execution_count": 0,
      "outputs": []
    },
    {
      "cell_type": "code",
      "metadata": {
        "id": "z9IYjVado7vq",
        "colab_type": "code",
        "colab": {}
      },
      "source": [
        "# from google.colab import files\n",
        "# files.upload()"
      ],
      "execution_count": 0,
      "outputs": []
    },
    {
      "cell_type": "code",
      "metadata": {
        "id": "iVHqqwMnpMLj",
        "colab_type": "code",
        "colab": {}
      },
      "source": [
        "# ! mkdir ~/.kaggle\n",
        "# ! cp kaggle.json ~/.kaggle/\n",
        "# ! chmod 600 ~/.kaggle/kaggle.json\n",
        "# ! kaggle datasets list"
      ],
      "execution_count": 0,
      "outputs": []
    },
    {
      "cell_type": "code",
      "metadata": {
        "id": "WtXKTc4ppV9e",
        "colab_type": "code",
        "colab": {}
      },
      "source": [
        "# ! kaggle competitions download -c 'titanic'"
      ],
      "execution_count": 0,
      "outputs": []
    },
    {
      "cell_type": "code",
      "metadata": {
        "id": "G8eupggIp-i3",
        "colab_type": "code",
        "colab": {}
      },
      "source": [
        "import pandas as pd\n",
        "import numpy as np\n",
        "import featuretools as ft\n",
        "from sklearn.linear_model import LogisticRegression\n",
        "from sklearn import preprocessing\n",
        "from sklearn.model_selection import train_test_split\n",
        "import math\n",
        "import random\n",
        "from sklearn import svm"
      ],
      "execution_count": 0,
      "outputs": []
    },
    {
      "cell_type": "code",
      "metadata": {
        "id": "Z6_AAitxqK1f",
        "colab_type": "code",
        "colab": {}
      },
      "source": [
        "TRAIN = pd.read_csv('/content/drive/My Drive/Machine Learning/Deep Feature Synthesis/train.csv')\n",
        "TEST = pd.read_csv('/content/drive/My Drive/Machine Learning/Deep Feature Synthesis/test.csv')"
      ],
      "execution_count": 0,
      "outputs": []
    },
    {
      "cell_type": "code",
      "metadata": {
        "id": "C0ux7o_qvMcp",
        "colab_type": "code",
        "colab": {}
      },
      "source": [
        "def Preprocessing(DATASET):\n",
        "    DATASET = DATASET.fillna(DATASET.mean())\n",
        "    DATASET = DATASET.drop(columns = ['Cabin', 'Name', 'Ticket'])\n",
        "    DATASET = DATASET.dropna()\n",
        "    DATASET['Sex'].replace(['female', 'male'], [0, 1], inplace = True)\n",
        "    DATASET['Embarked'].replace(['S','C', 'Q'], [0, 1, 2], inplace = True)\n",
        "    print(DATASET.isnull().sum())\n",
        "    print(DATASET.shape)\n",
        "\n",
        "    return DATASET"
      ],
      "execution_count": 0,
      "outputs": []
    },
    {
      "cell_type": "code",
      "metadata": {
        "id": "Iny6TVDmvqwu",
        "colab_type": "code",
        "outputId": "5c3206f1-8c41-408f-bca4-9675e4dacadf",
        "colab": {
          "base_uri": "https://localhost:8080/",
          "height": 204
        }
      },
      "source": [
        "TRAIN_PROCESSED = Preprocessing(TRAIN)"
      ],
      "execution_count": 8,
      "outputs": [
        {
          "output_type": "stream",
          "text": [
            "PassengerId    0\n",
            "Survived       0\n",
            "Pclass         0\n",
            "Sex            0\n",
            "Age            0\n",
            "SibSp          0\n",
            "Parch          0\n",
            "Fare           0\n",
            "Embarked       0\n",
            "dtype: int64\n",
            "(889, 9)\n"
          ],
          "name": "stdout"
        }
      ]
    },
    {
      "cell_type": "code",
      "metadata": {
        "id": "x7vuhLoSvvWL",
        "colab_type": "code",
        "outputId": "c2eae0ca-ecc9-4cf9-aa9d-c1f205abdbd9",
        "colab": {
          "base_uri": "https://localhost:8080/",
          "height": 187
        }
      },
      "source": [
        "TEST_PROCESSED = Preprocessing(TEST)"
      ],
      "execution_count": 9,
      "outputs": [
        {
          "output_type": "stream",
          "text": [
            "PassengerId    0\n",
            "Pclass         0\n",
            "Sex            0\n",
            "Age            0\n",
            "SibSp          0\n",
            "Parch          0\n",
            "Fare           0\n",
            "Embarked       0\n",
            "dtype: int64\n",
            "(418, 8)\n"
          ],
          "name": "stdout"
        }
      ]
    },
    {
      "cell_type": "code",
      "metadata": {
        "id": "WaFcPtx3wJ3R",
        "colab_type": "code",
        "colab": {}
      },
      "source": [
        "Y_TRAIN = TRAIN_PROCESSED['Survived']\n",
        "X_TRAIN = TRAIN_PROCESSED.drop(columns = ['Survived'])"
      ],
      "execution_count": 0,
      "outputs": []
    },
    {
      "cell_type": "code",
      "metadata": {
        "id": "zQnFxIthw3Sz",
        "colab_type": "code",
        "colab": {}
      },
      "source": [
        "def DFS(DATASET, DEPTH, ID):\n",
        "    ES = ft.EntitySet()\n",
        "    ES = ES.entity_from_dataframe(entity_id = 'Customers',\n",
        "                                  dataframe = DATASET,\n",
        "                                  index = 'PassengerId',\n",
        "                                  variable_types = {'Pclass' : ft.variable_types.Categorical,\n",
        "                                                    'Embarked' : ft.variable_types.Categorical})\n",
        "    \n",
        "    ES = ES.normalize_entity(base_entity_id = 'Customers',\n",
        "                             new_entity_id = 'Trip',\n",
        "                             index = 'PassengerId',\n",
        "                             additional_variables=['Pclass', 'Fare', 'Embarked'])\n",
        "    \n",
        "    FEATURE_MATRIX, FEATURE_DEF = ft.dfs(entityset = ES,\n",
        "                                         target_entity = str(ID),\n",
        "                                         agg_primitives=[\"mean\", \"sum\", \"mode\"],\n",
        "                                         max_depth = DEPTH)\n",
        "\n",
        "    return FEATURE_MATRIX, FEATURE_DEF"
      ],
      "execution_count": 0,
      "outputs": []
    },
    {
      "cell_type": "code",
      "metadata": {
        "id": "wBp3E-RKYdvS",
        "colab_type": "code",
        "outputId": "00292855-dbb7-4150-94e0-c6c8b336d3fc",
        "colab": {
          "base_uri": "https://localhost:8080/",
          "height": 51
        }
      },
      "source": [
        "TRIP_FEATURE_MAT, TRIP_FEATURE_DEF = DFS(X_TRAIN, 2, 'Trip')\n",
        "CUSTOMER_FEATURE_MAT, CUSTOMER_FEATURE_DEF = DFS(X_TRAIN, 2, 'Customers')\n",
        "\n",
        "print(CUSTOMER_FEATURE_MAT.shape)\n",
        "print(TRIP_FEATURE_MAT.shape)"
      ],
      "execution_count": 12,
      "outputs": [
        {
          "output_type": "stream",
          "text": [
            "(889, 15)\n",
            "(889, 11)\n"
          ],
          "name": "stdout"
        }
      ]
    },
    {
      "cell_type": "code",
      "metadata": {
        "id": "DtLipVmLVpfT",
        "colab_type": "code",
        "colab": {}
      },
      "source": [
        "def Merge_Data(DATASET_1, DATASET_2):\n",
        "    DB = DATASET_1.join(DATASET_2)\n",
        "    DB = DB.dropna(axis='columns')\n",
        "\n",
        "    return DB"
      ],
      "execution_count": 0,
      "outputs": []
    },
    {
      "cell_type": "code",
      "metadata": {
        "id": "BAx60h7GXhbm",
        "colab_type": "code",
        "colab": {}
      },
      "source": [
        "FINAL_TRAIN = Merge_Data(CUSTOMER_FEATURE_MAT, TRIP_FEATURE_MAT)\n",
        "\n",
        "X_TRAINING, X_TESTING, Y_TRAINING, Y_TESTING = train_test_split(FINAL_TRAIN, Y_TRAIN, test_size = 0.33, random_state = 42)"
      ],
      "execution_count": 0,
      "outputs": []
    },
    {
      "cell_type": "code",
      "metadata": {
        "id": "T_j0V1QvZOP3",
        "colab_type": "code",
        "colab": {}
      },
      "source": [
        "# TRIP_FEATURE_MAT, TRIP_FEATURE_DEF = DFS(TEST_PROCESSED, 2, 'Trip')\n",
        "# CUSTOMER_FEATURE_MAT, CUSTOMER_FEATURE_DEF = DFS(TEST_PROCESSED, 2, 'Customers')\n",
        "# FINAL_TEST = Merge_Data(CUSTOMER_FEATURE_MAT, TRIP_FEATURE_MAT)"
      ],
      "execution_count": 0,
      "outputs": []
    },
    {
      "cell_type": "code",
      "metadata": {
        "id": "yjhSIgj5giGC",
        "colab_type": "code",
        "colab": {}
      },
      "source": [
        "# Variables\n",
        "POPULATION = 200\n",
        "MUTATION_RATE = 0.1\n",
        "NUM_FEATURES = 20"
      ],
      "execution_count": 0,
      "outputs": []
    },
    {
      "cell_type": "code",
      "metadata": {
        "id": "C1veK6lXW0YI",
        "colab_type": "code",
        "colab": {}
      },
      "source": [
        "def MakePrediction(X, Y, i):\n",
        "    CLF = svm.SVC()\n",
        "    CLF.fit(X, Y)\n",
        "\n",
        "    ACCURACY = CLF.score(X_TESTING[i], Y_TESTING)\n",
        "    # PREDICTION = CLF.predict(X_TESTING[0:10])\n",
        "    # REAL_VAL = Y_TESTING[0:10]\n",
        "    # print('Prediction:', str(PREDICTION), 'Actual:', str(REAL_VAL.values))\n",
        "    # print(CLF.score(X_TESTING, Y_TESTING))\n",
        "\n",
        "    # FINAL_PREDICTION = CLF.predict(FINAL_TEST)\n",
        "    # SUBMISSION = pd.DataFrame({'PassengerId':TEST['PassengerId'],'Survived':FINAL_PREDICTION})\n",
        "    # SUBMISSION.to_csv('Titanic.csv', index=False)\n",
        "\n",
        "    return ACCURACY"
      ],
      "execution_count": 0,
      "outputs": []
    },
    {
      "cell_type": "code",
      "metadata": {
        "id": "9Z6wpfDdozxV",
        "colab_type": "code",
        "colab": {}
      },
      "source": [
        "def CreatePopulation():\n",
        "    LIST_POPULATION = []\n",
        "\n",
        "    for i in range(POPULATION):\n",
        "        FEATURES = np.random.choice(list(FINAL_TRAIN.columns.values), NUM_FEATURES).tolist()\n",
        "        LIST_POPULATION.append(FEATURES)\n",
        "\n",
        "    return LIST_POPULATION"
      ],
      "execution_count": 0,
      "outputs": []
    },
    {
      "cell_type": "code",
      "metadata": {
        "id": "hHf5L-8nvH8i",
        "colab_type": "code",
        "colab": {}
      },
      "source": [
        "def Natural_Selection():\n",
        "    MATING_POOL = []\n",
        "    FITNESS_POOL = []\n",
        "    \n",
        "    for i in LIST_POPULATION:\n",
        "        X = X_TRAINING[i]\n",
        "        Y = Y_TRAINING\n",
        "        FITNESS_SCORE = MakePrediction(X, Y, i)\n",
        "        FITNESS_POOL.append(FITNESS_SCORE)\n",
        "        \n",
        "        for j in range(math.floor(FITNESS_SCORE * 100 ** 2)):\n",
        "            MATING_POOL.append(i) \n",
        "\n",
        "    FITTEST_INDEX = FITNESS_POOL.index(max(FITNESS_POOL))\n",
        "    FITTEST_SCORE = max(FITNESS_POOL)\n",
        "    FITTEST_CHILD = MATING_POOL[FITTEST_INDEX]\n",
        "\n",
        "    print('Fittest Score :', FITTEST_SCORE)\n",
        "    print('Fittest Child :', FITTEST_CHILD)\n",
        "    \n",
        "    return MATING_POOL, FITTEST_SCORE, FITTEST_CHILD"
      ],
      "execution_count": 0,
      "outputs": []
    },
    {
      "cell_type": "code",
      "metadata": {
        "id": "a2F950uc7dZL",
        "colab_type": "code",
        "colab": {}
      },
      "source": [
        "def Generate():\n",
        "    for i in range(POPULATION):\n",
        "        A = math.floor(random.randint(0, len(MATING_POOL) - 1))\n",
        "        B = math.floor(random.randint(0, len(MATING_POOL) - 1))\n",
        "        PARTNER_A = MATING_POOL[A]\n",
        "        PARTNER_B = MATING_POOL[B]\n",
        "        CHILD = CrossOver(PARTNER_A, PARTNER_B)\n",
        "        CHILD = Mutation(CHILD)\n",
        "        LIST_POPULATION[i] = CHILD\n",
        "\n",
        "    return LIST_POPULATION"
      ],
      "execution_count": 0,
      "outputs": []
    },
    {
      "cell_type": "code",
      "metadata": {
        "id": "wiCyMbdp70th",
        "colab_type": "code",
        "colab": {}
      },
      "source": [
        "def CrossOver(PARTNER_A, PARTNER_B):\n",
        "    CHILD = []\n",
        "\n",
        "    MIDPOINT = math.floor(random.randint(0, (NUM_FEATURES - 1)))\n",
        "\n",
        "    for i in range(len(PARTNER_A)):\n",
        "        if i > MIDPOINT:\n",
        "            CHILD.append(PARTNER_A[i])\n",
        "        else:\n",
        "            CHILD.append(PARTNER_B[i])\n",
        "\n",
        "    return CHILD"
      ],
      "execution_count": 0,
      "outputs": []
    },
    {
      "cell_type": "code",
      "metadata": {
        "id": "mIsDszZH8jkz",
        "colab_type": "code",
        "colab": {}
      },
      "source": [
        "def Mutation(CHILD):\n",
        "\n",
        "    for i in range(NUM_FEATURES):\n",
        "        if random.uniform(0, 1) < MUTATION_RATE:\n",
        "            CHILD[i] = np.random.choice(list(FINAL_TRAIN.columns.values), 1).item()\n",
        "\n",
        "    return CHILD"
      ],
      "execution_count": 0,
      "outputs": []
    },
    {
      "cell_type": "code",
      "metadata": {
        "id": "D9oFk7vHgit3",
        "colab_type": "code",
        "outputId": "bc626a4f-c1db-4fee-a2aa-320dfcbb5c13",
        "colab": {
          "base_uri": "https://localhost:8080/",
          "height": 1000
        }
      },
      "source": [
        "if __name__ == '__main__':\n",
        "    LIST_POPULATION = CreatePopulation()\n",
        "    FITTEST_SCORE = 0\n",
        "    POOL = []\n",
        "    COUNT = 0\n",
        "\n",
        "    for COUNT in range(50):\n",
        "    # while FITTEST_SCORE < 0.85:\n",
        "        # COUNT = COUNT + 1\n",
        "        print('ITERATION', COUNT)\n",
        "        MATING_POOL, FITTEST_SCORE, FITTEST_CHILD = Natural_Selection()\n",
        "        LIST_POPULATION = Generate()\n",
        "        POOL.append(FITTEST_SCORE)\n",
        "\n",
        "    print('The Fittest Score is', max(POOL))\n",
        "    # print('The Fittest Child is', FITTEST_CHILD)"
      ],
      "execution_count": 23,
      "outputs": [
        {
          "output_type": "stream",
          "text": [
            "ITERATION 0\n",
            "Fittest Score : 0.7585034013605442\n",
            "Fittest Child : ['Trip.Pclass', 'Trip.Embarked', 'Trip.MEAN(Customers.Sex)', 'MEAN(Customers.Age)', 'Trip.MEAN(Customers.Parch)', 'Trip.Fare', 'Trip.MEAN(Customers.Sex)', 'Trip.MEAN(Customers.Sex)', 'Age', 'Trip.Embarked', 'Trip.SUM(Customers.Parch)', 'MEAN(Customers.Sex)', 'Trip.MEAN(Customers.Sex)', 'SUM(Customers.Sex)', 'SUM(Customers.Parch)', 'Trip.Embarked', 'Trip.SUM(Customers.Sex)', 'MEAN(Customers.SibSp)', 'Trip.MEAN(Customers.Age)', 'MEAN(Customers.Parch)']\n",
            "ITERATION 1\n",
            "Fittest Score : 0.8095238095238095\n",
            "Fittest Child : ['Embarked', 'Age', 'SUM(Customers.Parch)', 'Trip.Pclass', 'MEAN(Customers.Parch)', 'MEAN(Customers.Age)', 'Trip.SUM(Customers.Age)', 'SUM(Customers.Parch)', 'Age', 'MEAN(Customers.SibSp)', 'Trip.Embarked', 'Sex', 'Trip.Fare', 'Trip.SUM(Customers.SibSp)', 'Sex', 'MEAN(Customers.SibSp)', 'Trip.SUM(Customers.Age)', 'Embarked', 'SUM(Customers.Age)', 'Trip.Embarked']\n",
            "ITERATION 2\n",
            "Fittest Score : 0.8095238095238095\n",
            "Fittest Child : ['Trip.Pclass', 'Trip.MEAN(Customers.Sex)', 'SUM(Customers.SibSp)', 'Trip.MEAN(Customers.Sex)', 'Trip.MEAN(Customers.Parch)', 'Trip.MEAN(Customers.Sex)', 'Trip.MEAN(Customers.SibSp)', 'Pclass', 'Trip.Embarked', 'Trip.Embarked', 'Embarked', 'SUM(Customers.SibSp)', 'Trip.Embarked', 'MEAN(Customers.Parch)', 'Trip.Embarked', 'MEAN(Customers.SibSp)', 'Trip.MEAN(Customers.Parch)', 'SUM(Customers.Age)', 'Trip.Pclass', 'SibSp']\n",
            "ITERATION 3\n",
            "Fittest Score : 0.8095238095238095\n",
            "Fittest Child : ['MEAN(Customers.Parch)', 'Age', 'MEAN(Customers.SibSp)', 'Trip.SUM(Customers.Parch)', 'MEAN(Customers.Age)', 'Trip.Fare', 'Parch', 'Pclass', 'Trip.Embarked', 'Pclass', 'Trip.MEAN(Customers.Sex)', 'Parch', 'SUM(Customers.Sex)', 'SUM(Customers.Sex)', 'SibSp', 'Trip.SUM(Customers.SibSp)', 'Trip.SUM(Customers.Age)', 'SUM(Customers.Sex)', 'MEAN(Customers.SibSp)', 'SUM(Customers.SibSp)']\n",
            "ITERATION 4\n",
            "Fittest Score : 0.8095238095238095\n",
            "Fittest Child : ['SUM(Customers.Parch)', 'Trip.MEAN(Customers.Age)', 'SUM(Customers.Age)', 'Embarked', 'Embarked', 'Trip.SUM(Customers.SibSp)', 'Trip.SUM(Customers.SibSp)', 'Trip.Pclass', 'MEAN(Customers.Age)', 'MEAN(Customers.Age)', 'SUM(Customers.Sex)', 'MEAN(Customers.SibSp)', 'Trip.MEAN(Customers.SibSp)', 'SibSp', 'Fare', 'Trip.Fare', 'MEAN(Customers.SibSp)', 'Parch', 'SUM(Customers.SibSp)', 'Parch']\n",
            "ITERATION 5\n",
            "Fittest Score : 0.8231292517006803\n",
            "Fittest Child : ['Trip.Embarked', 'Age', 'Trip.SUM(Customers.Age)', 'Sex', 'SibSp', 'Trip.SUM(Customers.Age)', 'Trip.SUM(Customers.Parch)', 'SUM(Customers.Age)', 'Trip.Fare', 'Pclass', 'Trip.Pclass', 'SUM(Customers.SibSp)', 'SUM(Customers.Parch)', 'MEAN(Customers.Age)', 'Trip.SUM(Customers.SibSp)', 'Parch', 'Trip.Fare', 'Pclass', 'Trip.MEAN(Customers.SibSp)', 'SUM(Customers.Sex)']\n",
            "ITERATION 6\n",
            "Fittest Score : 0.8061224489795918\n",
            "Fittest Child : ['Trip.MEAN(Customers.Age)', 'Pclass', 'SibSp', 'Sex', 'SibSp', 'Trip.SUM(Customers.Parch)', 'SUM(Customers.Age)', 'SUM(Customers.Age)', 'SUM(Customers.Parch)', 'MEAN(Customers.Parch)', 'Trip.Embarked', 'Parch', 'MEAN(Customers.SibSp)', 'Fare', 'Trip.Embarked', 'Sex', 'Trip.MEAN(Customers.Age)', 'Trip.SUM(Customers.Parch)', 'Trip.Pclass', 'SUM(Customers.Sex)']\n",
            "ITERATION 7\n",
            "Fittest Score : 0.717687074829932\n",
            "Fittest Child : ['Parch', 'SibSp', 'MEAN(Customers.Age)', 'Trip.MEAN(Customers.Age)', 'Trip.MEAN(Customers.Sex)', 'SibSp', 'SibSp', 'MEAN(Customers.Parch)', 'Pclass', 'Sex', 'MEAN(Customers.SibSp)', 'Pclass', 'MEAN(Customers.Parch)', 'Trip.Fare', 'Trip.SUM(Customers.SibSp)', 'Age', 'Trip.SUM(Customers.Age)', 'Trip.SUM(Customers.Parch)', 'Trip.MEAN(Customers.Age)', 'Trip.SUM(Customers.Age)']\n",
            "ITERATION 8\n",
            "Fittest Score : 0.7108843537414966\n",
            "Fittest Child : ['Trip.MEAN(Customers.Age)', 'SUM(Customers.Sex)', 'Trip.SUM(Customers.Sex)', 'MEAN(Customers.Age)', 'Trip.Fare', 'Sex', 'Trip.SUM(Customers.Age)', 'Trip.Embarked', 'Trip.Fare', 'Pclass', 'Embarked', 'SUM(Customers.Parch)', 'Trip.SUM(Customers.Sex)', 'SUM(Customers.SibSp)', 'SUM(Customers.Sex)', 'MEAN(Customers.Parch)', 'SibSp', 'Age', 'Trip.MEAN(Customers.Parch)', 'Trip.SUM(Customers.Sex)']\n",
            "ITERATION 9\n",
            "Fittest Score : 0.7074829931972789\n",
            "Fittest Child : ['Trip.MEAN(Customers.Parch)', 'Trip.SUM(Customers.Age)', 'Age', 'MEAN(Customers.Age)', 'SUM(Customers.Parch)', 'Trip.MEAN(Customers.Parch)', 'Trip.Fare', 'Trip.SUM(Customers.Parch)', 'SibSp', 'Trip.SUM(Customers.Age)', 'Trip.MEAN(Customers.Age)', 'Trip.Fare', 'Trip.MEAN(Customers.Parch)', 'SUM(Customers.Parch)', 'SUM(Customers.Age)', 'Trip.MEAN(Customers.SibSp)', 'Embarked', 'Trip.MEAN(Customers.SibSp)', 'Trip.MEAN(Customers.Age)', 'MEAN(Customers.Sex)']\n",
            "ITERATION 10\n",
            "Fittest Score : 0.7551020408163265\n",
            "Fittest Child : ['Trip.MEAN(Customers.Parch)', 'MEAN(Customers.Age)', 'SUM(Customers.Parch)', 'Trip.SUM(Customers.Age)', 'MEAN(Customers.SibSp)', 'Trip.MEAN(Customers.Sex)', 'Trip.Pclass', 'MEAN(Customers.Age)', 'Trip.SUM(Customers.SibSp)', 'Trip.Embarked', 'Fare', 'MEAN(Customers.Parch)', 'SUM(Customers.SibSp)', 'SUM(Customers.Sex)', 'Trip.MEAN(Customers.Age)', 'SUM(Customers.Parch)', 'Embarked', 'Trip.MEAN(Customers.SibSp)', 'Trip.MEAN(Customers.SibSp)', 'Sex']\n",
            "ITERATION 11\n",
            "Fittest Score : 0.7142857142857143\n",
            "Fittest Child : ['SUM(Customers.SibSp)', 'Embarked', 'SUM(Customers.Age)', 'SUM(Customers.SibSp)', 'Trip.SUM(Customers.Sex)', 'Trip.MEAN(Customers.SibSp)', 'SibSp', 'Trip.SUM(Customers.Sex)', 'Trip.MEAN(Customers.Age)', 'MEAN(Customers.Parch)', 'Age', 'Trip.SUM(Customers.Age)', 'Age', 'MEAN(Customers.Age)', 'Trip.Pclass', 'Trip.MEAN(Customers.Age)', 'Sex', 'MEAN(Customers.Parch)', 'SUM(Customers.Age)', 'Pclass']\n",
            "ITERATION 12\n",
            "Fittest Score : 0.7108843537414966\n",
            "Fittest Child : ['Embarked', 'SUM(Customers.Age)', 'Trip.Embarked', 'Trip.Embarked', 'Trip.MEAN(Customers.Sex)', 'MEAN(Customers.Age)', 'Sex', 'Trip.SUM(Customers.Parch)', 'Trip.SUM(Customers.Age)', 'SUM(Customers.Parch)', 'Parch', 'Trip.SUM(Customers.Age)', 'MEAN(Customers.SibSp)', 'Trip.SUM(Customers.Sex)', 'Age', 'Trip.MEAN(Customers.Parch)', 'MEAN(Customers.Sex)', 'SibSp', 'Trip.MEAN(Customers.SibSp)', 'Trip.Embarked']\n",
            "ITERATION 13\n",
            "Fittest Score : 0.8163265306122449\n",
            "Fittest Child : ['Trip.SUM(Customers.SibSp)', 'MEAN(Customers.Parch)', 'Trip.SUM(Customers.Parch)', 'Sex', 'Trip.MEAN(Customers.Age)', 'Embarked', 'MEAN(Customers.SibSp)', 'Embarked', 'SibSp', 'Trip.Pclass', 'MEAN(Customers.Age)', 'Embarked', 'MEAN(Customers.SibSp)', 'Fare', 'Trip.SUM(Customers.Sex)', 'Trip.MEAN(Customers.Age)', 'Trip.Pclass', 'Trip.MEAN(Customers.Age)', 'Trip.Fare', 'Trip.MEAN(Customers.SibSp)']\n",
            "ITERATION 14\n",
            "Fittest Score : 0.8231292517006803\n",
            "Fittest Child : ['SUM(Customers.Parch)', 'MEAN(Customers.Age)', 'Trip.SUM(Customers.SibSp)', 'Pclass', 'Trip.MEAN(Customers.Parch)', 'SUM(Customers.SibSp)', 'Parch', 'Trip.MEAN(Customers.Age)', 'Embarked', 'Trip.Pclass', 'Trip.SUM(Customers.Age)', 'Trip.SUM(Customers.SibSp)', 'Embarked', 'Trip.SUM(Customers.Age)', 'Parch', 'Trip.MEAN(Customers.Parch)', 'Fare', 'SUM(Customers.Sex)', 'Trip.MEAN(Customers.Sex)', 'MEAN(Customers.Sex)']\n",
            "ITERATION 15\n",
            "Fittest Score : 0.8129251700680272\n",
            "Fittest Child : ['SUM(Customers.Sex)', 'Trip.MEAN(Customers.Age)', 'MEAN(Customers.Age)', 'Trip.Fare', 'Fare', 'Embarked', 'SUM(Customers.Sex)', 'Trip.Embarked', 'SUM(Customers.SibSp)', 'Trip.SUM(Customers.SibSp)', 'Trip.Embarked', 'Trip.SUM(Customers.SibSp)', 'SibSp', 'Trip.Embarked', 'Trip.MEAN(Customers.Sex)', 'Age', 'Sex', 'MEAN(Customers.Parch)', 'Trip.SUM(Customers.Sex)', 'Trip.SUM(Customers.Age)']\n",
            "ITERATION 16\n",
            "Fittest Score : 0.782312925170068\n",
            "Fittest Child : ['Trip.Pclass', 'Trip.SUM(Customers.Parch)', 'MEAN(Customers.Age)', 'SibSp', 'SUM(Customers.Parch)', 'SUM(Customers.Parch)', 'Trip.SUM(Customers.SibSp)', 'Trip.SUM(Customers.Sex)', 'Trip.MEAN(Customers.SibSp)', 'Trip.MEAN(Customers.Sex)', 'Embarked', 'Trip.Embarked', 'MEAN(Customers.Age)', 'MEAN(Customers.Age)', 'SUM(Customers.Age)', 'SUM(Customers.Age)', 'MEAN(Customers.Parch)', 'Trip.SUM(Customers.Age)', 'MEAN(Customers.Parch)', 'Trip.Fare']\n",
            "ITERATION 17\n",
            "Fittest Score : 0.7074829931972789\n",
            "Fittest Child : ['MEAN(Customers.Parch)', 'Fare', 'Trip.SUM(Customers.Age)', 'SUM(Customers.Parch)', 'Trip.MEAN(Customers.Age)', 'Trip.Pclass', 'Pclass', 'SUM(Customers.SibSp)', 'Trip.Fare', 'SUM(Customers.Age)', 'Trip.SUM(Customers.SibSp)', 'MEAN(Customers.Parch)', 'SUM(Customers.Age)', 'MEAN(Customers.SibSp)', 'Parch', 'Trip.MEAN(Customers.Parch)', 'Trip.Embarked', 'Pclass', 'SUM(Customers.Age)', 'Pclass']\n",
            "ITERATION 18\n",
            "Fittest Score : 0.7108843537414966\n",
            "Fittest Child : ['SibSp', 'MEAN(Customers.Sex)', 'Trip.SUM(Customers.SibSp)', 'Trip.SUM(Customers.SibSp)', 'Trip.Embarked', 'Trip.MEAN(Customers.Age)', 'Trip.MEAN(Customers.Age)', 'SUM(Customers.Parch)', 'Age', 'MEAN(Customers.Parch)', 'SibSp', 'MEAN(Customers.Parch)', 'Trip.Fare', 'SibSp', 'Trip.SUM(Customers.Age)', 'Parch', 'MEAN(Customers.SibSp)', 'Trip.MEAN(Customers.Age)', 'Sex', 'MEAN(Customers.Parch)']\n",
            "ITERATION 19\n",
            "Fittest Score : 0.7482993197278912\n",
            "Fittest Child : ['Age', 'Sex', 'SUM(Customers.Sex)', 'Trip.Pclass', 'Trip.MEAN(Customers.Age)', 'Trip.SUM(Customers.Parch)', 'Trip.SUM(Customers.Sex)', 'Trip.Pclass', 'SibSp', 'Trip.Embarked', 'SibSp', 'Sex', 'Embarked', 'SUM(Customers.Parch)', 'MEAN(Customers.Sex)', 'Trip.MEAN(Customers.Sex)', 'SUM(Customers.Age)', 'SUM(Customers.Sex)', 'Embarked', 'Trip.SUM(Customers.Parch)']\n",
            "ITERATION 20\n",
            "Fittest Score : 0.7108843537414966\n",
            "Fittest Child : ['SibSp', 'Trip.SUM(Customers.Parch)', 'Trip.SUM(Customers.SibSp)', 'Trip.Embarked', 'SUM(Customers.Age)', 'Trip.MEAN(Customers.Age)', 'Trip.Pclass', 'MEAN(Customers.Age)', 'SUM(Customers.Parch)', 'Trip.Embarked', 'SibSp', 'SUM(Customers.Parch)', 'MEAN(Customers.Sex)', 'MEAN(Customers.Age)', 'Parch', 'Trip.MEAN(Customers.SibSp)', 'MEAN(Customers.Parch)', 'MEAN(Customers.Age)', 'Age', 'MEAN(Customers.Parch)']\n",
            "ITERATION 21\n",
            "Fittest Score : 0.8129251700680272\n",
            "Fittest Child : ['SibSp', 'Trip.SUM(Customers.Parch)', 'Trip.SUM(Customers.SibSp)', 'Trip.Embarked', 'SUM(Customers.Age)', 'Trip.MEAN(Customers.Age)', 'Trip.SUM(Customers.Age)', 'Pclass', 'Age', 'Trip.Pclass', 'Embarked', 'MEAN(Customers.Age)', 'SUM(Customers.Sex)', 'MEAN(Customers.SibSp)', 'Trip.Pclass', 'MEAN(Customers.Parch)', 'SibSp', 'Trip.MEAN(Customers.SibSp)', 'Embarked', 'Fare']\n",
            "ITERATION 22\n",
            "Fittest Score : 0.8129251700680272\n",
            "Fittest Child : ['SibSp', 'Trip.MEAN(Customers.Parch)', 'Trip.SUM(Customers.Sex)', 'Trip.Embarked', 'Sex', 'Trip.SUM(Customers.SibSp)', 'SUM(Customers.Age)', 'SUM(Customers.Sex)', 'SUM(Customers.Age)', 'MEAN(Customers.Parch)', 'SUM(Customers.Parch)', 'MEAN(Customers.Parch)', 'Trip.SUM(Customers.SibSp)', 'Trip.SUM(Customers.SibSp)', 'Trip.SUM(Customers.SibSp)', 'Trip.MEAN(Customers.Parch)', 'MEAN(Customers.Parch)', 'Trip.Embarked', 'SUM(Customers.Parch)', 'Trip.Pclass']\n",
            "ITERATION 23\n",
            "Fittest Score : 0.7993197278911565\n",
            "Fittest Child : ['Fare', 'SUM(Customers.Age)', 'Trip.SUM(Customers.SibSp)', 'Pclass', 'Age', 'SUM(Customers.Sex)', 'SUM(Customers.Age)', 'Age', 'Fare', 'Age', 'Fare', 'Age', 'MEAN(Customers.Parch)', 'MEAN(Customers.Parch)', 'Trip.SUM(Customers.SibSp)', 'Embarked', 'Pclass', 'Pclass', 'Parch', 'Fare']\n",
            "ITERATION 24\n",
            "Fittest Score : 0.7448979591836735\n",
            "Fittest Child : ['SibSp', 'Trip.SUM(Customers.Parch)', 'MEAN(Customers.Sex)', 'Trip.SUM(Customers.Sex)', 'Trip.MEAN(Customers.Age)', 'Sex', 'SUM(Customers.SibSp)', 'Trip.Pclass', 'Trip.Fare', 'Age', 'Trip.MEAN(Customers.SibSp)', 'Trip.SUM(Customers.Age)', 'MEAN(Customers.Age)', 'Parch', 'Trip.SUM(Customers.Parch)', 'Trip.MEAN(Customers.Parch)', 'SibSp', 'Trip.MEAN(Customers.Sex)', 'MEAN(Customers.Age)', 'Parch']\n",
            "ITERATION 25\n",
            "Fittest Score : 0.7108843537414966\n",
            "Fittest Child : ['SibSp', 'Pclass', 'MEAN(Customers.Parch)', 'Trip.Embarked', 'SUM(Customers.Sex)', 'Age', 'Trip.Pclass', 'Age', 'Trip.MEAN(Customers.Sex)', 'Sex', 'Trip.SUM(Customers.SibSp)', 'Trip.SUM(Customers.Age)', 'Embarked', 'MEAN(Customers.Sex)', 'SUM(Customers.Age)', 'Trip.Pclass', 'MEAN(Customers.Age)', 'Trip.Fare', 'MEAN(Customers.SibSp)', 'SUM(Customers.SibSp)']\n",
            "ITERATION 26\n",
            "Fittest Score : 0.7108843537414966\n",
            "Fittest Child : ['Trip.Pclass', 'SUM(Customers.Age)', 'Parch', 'Trip.MEAN(Customers.Age)', 'Trip.Fare', 'SibSp', 'MEAN(Customers.Age)', 'MEAN(Customers.Sex)', 'Trip.Fare', 'Pclass', 'Trip.MEAN(Customers.SibSp)', 'Trip.SUM(Customers.Age)', 'MEAN(Customers.Age)', 'SibSp', 'Trip.SUM(Customers.Parch)', 'Trip.MEAN(Customers.Parch)', 'SibSp', 'Sex', 'Trip.MEAN(Customers.Age)', 'MEAN(Customers.Parch)']\n",
            "ITERATION 27\n",
            "Fittest Score : 0.7482993197278912\n",
            "Fittest Child : ['Trip.SUM(Customers.Age)', 'Embarked', 'Trip.SUM(Customers.SibSp)', 'Trip.Embarked', 'SUM(Customers.Age)', 'SibSp', 'Trip.Pclass', 'SUM(Customers.Age)', 'MEAN(Customers.Sex)', 'Trip.SUM(Customers.Age)', 'Trip.MEAN(Customers.SibSp)', 'MEAN(Customers.Age)', 'SUM(Customers.Sex)', 'SUM(Customers.SibSp)', 'Fare', 'Trip.SUM(Customers.Sex)', 'Trip.Embarked', 'Trip.MEAN(Customers.Age)', 'SibSp', 'Fare']\n",
            "ITERATION 28\n",
            "Fittest Score : 0.7448979591836735\n",
            "Fittest Child : ['MEAN(Customers.Sex)', 'SUM(Customers.SibSp)', 'Trip.Fare', 'MEAN(Customers.SibSp)', 'Trip.Embarked', 'Trip.MEAN(Customers.Age)', 'Trip.SUM(Customers.Sex)', 'SUM(Customers.Sex)', 'SUM(Customers.Age)', 'MEAN(Customers.Parch)', 'SUM(Customers.Parch)', 'MEAN(Customers.Parch)', 'Trip.SUM(Customers.SibSp)', 'Parch', 'Trip.SUM(Customers.SibSp)', 'Trip.MEAN(Customers.Parch)', 'MEAN(Customers.Parch)', 'SUM(Customers.Age)', 'Sex', 'Fare']\n",
            "ITERATION 29\n",
            "Fittest Score : 0.8095238095238095\n",
            "Fittest Child : ['Trip.SUM(Customers.Sex)', 'Parch', 'MEAN(Customers.Age)', 'MEAN(Customers.Age)', 'Trip.MEAN(Customers.Age)', 'SUM(Customers.SibSp)', 'Fare', 'SUM(Customers.SibSp)', 'Trip.MEAN(Customers.SibSp)', 'MEAN(Customers.Sex)', 'Pclass', 'MEAN(Customers.Sex)', 'MEAN(Customers.Sex)', 'Trip.SUM(Customers.SibSp)', 'MEAN(Customers.Sex)', 'MEAN(Customers.SibSp)', 'Trip.SUM(Customers.Parch)', 'SUM(Customers.Age)', 'Fare', 'Trip.Fare']\n",
            "ITERATION 30\n",
            "Fittest Score : 0.8095238095238095\n",
            "Fittest Child : ['Trip.MEAN(Customers.Sex)', 'SUM(Customers.Parch)', 'Parch', 'SUM(Customers.Age)', 'Sex', 'Age', 'SUM(Customers.Sex)', 'Trip.Pclass', 'Trip.MEAN(Customers.Parch)', 'Fare', 'Trip.MEAN(Customers.SibSp)', 'SUM(Customers.Age)', 'Trip.SUM(Customers.Parch)', 'Trip.MEAN(Customers.SibSp)', 'Trip.SUM(Customers.Age)', 'SibSp', 'Pclass', 'MEAN(Customers.Sex)', 'Trip.MEAN(Customers.Sex)', 'Trip.SUM(Customers.Sex)']\n",
            "ITERATION 31\n",
            "Fittest Score : 0.8129251700680272\n",
            "Fittest Child : ['MEAN(Customers.Parch)', 'Fare', 'MEAN(Customers.Sex)', 'Trip.MEAN(Customers.SibSp)', 'Trip.SUM(Customers.SibSp)', 'Parch', 'Trip.MEAN(Customers.SibSp)', 'MEAN(Customers.Age)', 'SUM(Customers.Sex)', 'Sex', 'Trip.Embarked', 'MEAN(Customers.Parch)', 'Fare', 'MEAN(Customers.Sex)', 'Trip.SUM(Customers.Sex)', 'SUM(Customers.SibSp)', 'Trip.SUM(Customers.Sex)', 'Trip.MEAN(Customers.Age)', 'Age', 'SibSp']\n",
            "ITERATION 32\n",
            "Fittest Score : 0.8231292517006803\n",
            "Fittest Child : ['Trip.SUM(Customers.SibSp)', 'MEAN(Customers.Parch)', 'MEAN(Customers.Age)', 'Trip.SUM(Customers.Age)', 'SUM(Customers.Parch)', 'Trip.MEAN(Customers.Sex)', 'SUM(Customers.SibSp)', 'SUM(Customers.Age)', 'Trip.SUM(Customers.Age)', 'Trip.MEAN(Customers.Age)', 'SibSp', 'Trip.SUM(Customers.Parch)', 'Parch', 'Trip.MEAN(Customers.SibSp)', 'MEAN(Customers.Sex)', 'Trip.MEAN(Customers.Parch)', 'Embarked', 'Trip.MEAN(Customers.Age)', 'SUM(Customers.Sex)', 'Trip.MEAN(Customers.Age)']\n",
            "ITERATION 33\n",
            "Fittest Score : 0.8231292517006803\n",
            "Fittest Child : ['SibSp', 'Fare', 'MEAN(Customers.Sex)', 'MEAN(Customers.SibSp)', 'MEAN(Customers.Sex)', 'Trip.MEAN(Customers.Age)', 'SUM(Customers.Sex)', 'MEAN(Customers.Age)', 'SUM(Customers.Age)', 'Sex', 'SUM(Customers.Age)', 'SUM(Customers.SibSp)', 'MEAN(Customers.Sex)', 'MEAN(Customers.SibSp)', 'Trip.SUM(Customers.Age)', 'Trip.MEAN(Customers.Parch)', 'MEAN(Customers.SibSp)', 'Trip.MEAN(Customers.SibSp)', 'Trip.Fare', 'MEAN(Customers.Age)']\n",
            "ITERATION 34\n",
            "Fittest Score : 0.8095238095238095\n",
            "Fittest Child : ['MEAN(Customers.Parch)', 'Fare', 'MEAN(Customers.Sex)', 'Trip.MEAN(Customers.SibSp)', 'Trip.SUM(Customers.SibSp)', 'Parch', 'Trip.SUM(Customers.SibSp)', 'Trip.SUM(Customers.Sex)', 'MEAN(Customers.Sex)', 'Fare', 'Trip.SUM(Customers.Age)', 'Age', 'SibSp', 'MEAN(Customers.SibSp)', 'SUM(Customers.SibSp)', 'Embarked', 'Trip.Embarked', 'MEAN(Customers.Sex)', 'Sex', 'Trip.SUM(Customers.Sex)']\n",
            "ITERATION 35\n",
            "Fittest Score : 0.8095238095238095\n",
            "Fittest Child : ['Trip.Fare', 'Trip.MEAN(Customers.Parch)', 'MEAN(Customers.Age)', 'SUM(Customers.Age)', 'MEAN(Customers.Age)', 'SibSp', 'MEAN(Customers.Sex)', 'SUM(Customers.Age)', 'Age', 'SUM(Customers.Parch)', 'Trip.Fare', 'Fare', 'MEAN(Customers.Parch)', 'SibSp', 'Trip.Embarked', 'Sex', 'Trip.MEAN(Customers.Sex)', 'Trip.Embarked', 'Trip.Fare', 'SUM(Customers.SibSp)']\n",
            "ITERATION 36\n",
            "Fittest Score : 0.8129251700680272\n",
            "Fittest Child : ['Trip.SUM(Customers.Parch)', 'MEAN(Customers.Parch)', 'MEAN(Customers.SibSp)', 'Pclass', 'MEAN(Customers.SibSp)', 'Trip.MEAN(Customers.SibSp)', 'Trip.SUM(Customers.Sex)', 'Trip.MEAN(Customers.Parch)', 'MEAN(Customers.Parch)', 'Age', 'Trip.MEAN(Customers.Parch)', 'Trip.MEAN(Customers.Age)', 'SUM(Customers.Sex)', 'SibSp', 'MEAN(Customers.SibSp)', 'MEAN(Customers.Age)', 'SUM(Customers.SibSp)', 'MEAN(Customers.Age)', 'Trip.SUM(Customers.SibSp)', 'Trip.SUM(Customers.SibSp)']\n",
            "ITERATION 37\n",
            "Fittest Score : 0.8095238095238095\n",
            "Fittest Child : ['Fare', 'SibSp', 'SUM(Customers.SibSp)', 'MEAN(Customers.Age)', 'SUM(Customers.Age)', 'Trip.MEAN(Customers.Age)', 'Trip.SUM(Customers.SibSp)', 'Trip.SUM(Customers.Sex)', 'SUM(Customers.Age)', 'Trip.Pclass', 'SUM(Customers.SibSp)', 'Trip.MEAN(Customers.Age)', 'MEAN(Customers.SibSp)', 'MEAN(Customers.SibSp)', 'Trip.MEAN(Customers.Sex)', 'MEAN(Customers.Sex)', 'Trip.SUM(Customers.Parch)', 'Sex', 'Trip.MEAN(Customers.Sex)', 'Trip.SUM(Customers.Age)']\n",
            "ITERATION 38\n",
            "Fittest Score : 0.8095238095238095\n",
            "Fittest Child : ['Pclass', 'MEAN(Customers.SibSp)', 'Trip.MEAN(Customers.SibSp)', 'Pclass', 'MEAN(Customers.Age)', 'Fare', 'SUM(Customers.SibSp)', 'Trip.MEAN(Customers.Sex)', 'MEAN(Customers.Sex)', 'Fare', 'Trip.Embarked', 'Trip.SUM(Customers.Age)', 'MEAN(Customers.SibSp)', 'SibSp', 'Trip.SUM(Customers.Age)', 'Trip.MEAN(Customers.Parch)', 'SUM(Customers.Age)', 'Trip.SUM(Customers.Age)', 'Trip.SUM(Customers.Age)', 'Parch']\n",
            "ITERATION 39\n",
            "Fittest Score : 0.7108843537414966\n",
            "Fittest Child : ['MEAN(Customers.Sex)', 'MEAN(Customers.SibSp)', 'SUM(Customers.Age)', 'SUM(Customers.Sex)', 'Sex', 'Trip.SUM(Customers.Sex)', 'SUM(Customers.Sex)', 'SUM(Customers.Parch)', 'MEAN(Customers.Sex)', 'Parch', 'Trip.MEAN(Customers.SibSp)', 'SUM(Customers.Age)', 'Trip.SUM(Customers.Age)', 'Trip.MEAN(Customers.Parch)', 'MEAN(Customers.Sex)', 'Trip.MEAN(Customers.Parch)', 'MEAN(Customers.Parch)', 'SUM(Customers.Age)', 'Trip.Pclass', 'Trip.MEAN(Customers.Age)']\n",
            "ITERATION 40\n",
            "Fittest Score : 0.7142857142857143\n",
            "Fittest Child : ['Trip.Pclass', 'Trip.SUM(Customers.SibSp)', 'Embarked', 'Pclass', 'Trip.Pclass', 'Age', 'Trip.Fare', 'Sex', 'Sex', 'Fare', 'MEAN(Customers.Sex)', 'MEAN(Customers.Sex)', 'SUM(Customers.SibSp)', 'Embarked', 'SUM(Customers.SibSp)', 'SibSp', 'Trip.Embarked', 'Trip.SUM(Customers.Age)', 'Age', 'SUM(Customers.Age)']\n",
            "ITERATION 41\n",
            "Fittest Score : 0.7074829931972789\n",
            "Fittest Child : ['Fare', 'Sex', 'SibSp', 'SUM(Customers.SibSp)', 'Trip.Embarked', 'Trip.MEAN(Customers.Parch)', 'Trip.Fare', 'Sex', 'Sex', 'Fare', 'SibSp', 'Trip.Pclass', 'SUM(Customers.SibSp)', 'MEAN(Customers.Age)', 'SUM(Customers.SibSp)', 'SibSp', 'Age', 'SUM(Customers.Sex)', 'SUM(Customers.Sex)', 'Age']\n",
            "ITERATION 42\n",
            "Fittest Score : 0.7074829931972789\n",
            "Fittest Child : ['MEAN(Customers.Parch)', 'Trip.Fare', 'MEAN(Customers.Age)', 'Trip.SUM(Customers.Age)', 'Fare', 'SUM(Customers.Parch)', 'MEAN(Customers.SibSp)', 'SUM(Customers.Sex)', 'MEAN(Customers.Sex)', 'Parch', 'SUM(Customers.Parch)', 'SUM(Customers.Age)', 'MEAN(Customers.Age)', 'Trip.MEAN(Customers.Parch)', 'MEAN(Customers.Sex)', 'Trip.SUM(Customers.Sex)', 'MEAN(Customers.SibSp)', 'Parch', 'Trip.SUM(Customers.Sex)', 'Fare']\n",
            "ITERATION 43\n",
            "Fittest Score : 0.8163265306122449\n",
            "Fittest Child : ['MEAN(Customers.Age)', 'MEAN(Customers.Age)', 'Trip.MEAN(Customers.Age)', 'Trip.SUM(Customers.Age)', 'Trip.Fare', 'Trip.MEAN(Customers.Parch)', 'Age', 'Embarked', 'MEAN(Customers.Age)', 'Trip.MEAN(Customers.Age)', 'Trip.Fare', 'Trip.Fare', 'MEAN(Customers.Sex)', 'MEAN(Customers.SibSp)', 'Trip.MEAN(Customers.SibSp)', 'SibSp', 'Trip.MEAN(Customers.Parch)', 'SibSp', 'SUM(Customers.Age)', 'Trip.Pclass']\n",
            "ITERATION 44\n",
            "Fittest Score : 0.7142857142857143\n",
            "Fittest Child : ['Trip.MEAN(Customers.SibSp)', 'MEAN(Customers.SibSp)', 'SUM(Customers.Age)', 'Parch', 'Trip.MEAN(Customers.SibSp)', 'Trip.MEAN(Customers.Parch)', 'Trip.MEAN(Customers.Age)', 'Age', 'MEAN(Customers.Parch)', 'Trip.SUM(Customers.SibSp)', 'Embarked', 'Trip.SUM(Customers.SibSp)', 'Trip.MEAN(Customers.SibSp)', 'MEAN(Customers.SibSp)', 'Fare', 'Parch', 'Sex', 'Trip.SUM(Customers.Age)', 'Trip.SUM(Customers.Age)', 'Fare']\n",
            "ITERATION 45\n",
            "Fittest Score : 0.7993197278911565\n",
            "Fittest Child : ['Embarked', 'Sex', 'Fare', 'Trip.Embarked', 'Trip.SUM(Customers.SibSp)', 'MEAN(Customers.Sex)', 'Trip.MEAN(Customers.Sex)', 'Age', 'SUM(Customers.Age)', 'Trip.Fare', 'Trip.Fare', 'Trip.SUM(Customers.Parch)', 'Trip.MEAN(Customers.Sex)', 'Trip.Embarked', 'Trip.MEAN(Customers.Sex)', 'Trip.MEAN(Customers.Parch)', 'MEAN(Customers.Parch)', 'Trip.SUM(Customers.Age)', 'Pclass', 'Trip.MEAN(Customers.Age)']\n",
            "ITERATION 46\n",
            "Fittest Score : 0.8129251700680272\n",
            "Fittest Child : ['MEAN(Customers.Age)', 'Trip.MEAN(Customers.Age)', 'Pclass', 'SibSp', 'SUM(Customers.Age)', 'MEAN(Customers.SibSp)', 'MEAN(Customers.Age)', 'MEAN(Customers.SibSp)', 'SUM(Customers.Age)', 'Trip.SUM(Customers.Sex)', 'Trip.Fare', 'SUM(Customers.Age)', 'Trip.MEAN(Customers.Parch)', 'Trip.SUM(Customers.SibSp)', 'MEAN(Customers.Parch)', 'Sex', 'Trip.MEAN(Customers.SibSp)', 'SUM(Customers.Age)', 'Parch', 'Trip.SUM(Customers.Sex)']\n",
            "ITERATION 47\n",
            "Fittest Score : 0.8231292517006803\n",
            "Fittest Child : ['Embarked', 'MEAN(Customers.Parch)', 'Trip.MEAN(Customers.Age)', 'Pclass', 'Sex', 'Trip.SUM(Customers.Sex)', 'Trip.SUM(Customers.Parch)', 'Trip.MEAN(Customers.SibSp)', 'Trip.MEAN(Customers.Age)', 'Trip.MEAN(Customers.Age)', 'Trip.Fare', 'SUM(Customers.Age)', 'Trip.MEAN(Customers.Age)', 'Trip.SUM(Customers.Sex)', 'Pclass', 'Trip.Fare', 'Trip.Embarked', 'Trip.MEAN(Customers.Sex)', 'Trip.Pclass', 'Trip.Fare']\n",
            "ITERATION 48\n",
            "Fittest Score : 0.8061224489795918\n",
            "Fittest Child : ['Fare', 'Trip.MEAN(Customers.Age)', 'Trip.MEAN(Customers.Parch)', 'Trip.MEAN(Customers.SibSp)', 'Sex', 'Parch', 'Trip.SUM(Customers.SibSp)', 'SUM(Customers.Parch)', 'MEAN(Customers.Parch)', 'MEAN(Customers.SibSp)', 'SUM(Customers.Parch)', 'MEAN(Customers.Parch)', 'Parch', 'Trip.MEAN(Customers.Sex)', 'Sex', 'Trip.MEAN(Customers.SibSp)', 'Trip.Fare', 'SUM(Customers.SibSp)', 'SUM(Customers.Age)', 'SUM(Customers.Age)']\n",
            "ITERATION 49\n",
            "Fittest Score : 0.8095238095238095\n",
            "Fittest Child : ['SibSp', 'Sex', 'Trip.Fare', 'Trip.MEAN(Customers.SibSp)', 'Fare', 'Trip.SUM(Customers.Sex)', 'MEAN(Customers.SibSp)', 'Trip.MEAN(Customers.Age)', 'SUM(Customers.Age)', 'MEAN(Customers.Age)', 'Age', 'Trip.SUM(Customers.Sex)', 'Trip.SUM(Customers.Age)', 'Trip.SUM(Customers.SibSp)', 'Trip.Fare', 'SUM(Customers.SibSp)', 'Age', 'Fare', 'Fare', 'Trip.MEAN(Customers.Sex)']\n",
            "The Fittest Score is 0.8231292517006803\n"
          ],
          "name": "stdout"
        }
      ]
    },
    {
      "cell_type": "code",
      "metadata": {
        "id": "k40eg7tZn3bg",
        "colab_type": "code",
        "colab": {}
      },
      "source": [
        ""
      ],
      "execution_count": 0,
      "outputs": []
    }
  ]
}