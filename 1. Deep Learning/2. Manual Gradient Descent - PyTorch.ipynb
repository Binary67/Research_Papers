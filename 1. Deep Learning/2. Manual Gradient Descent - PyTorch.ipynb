{
 "cells": [
  {
   "cell_type": "code",
   "execution_count": 9,
   "metadata": {},
   "outputs": [],
   "source": [
    "import torch\n",
    "from torch.autograd import Variable\n",
    "import numpy as np\n",
    "import time\n",
    "import matplotlib.pyplot as plt"
   ]
  },
  {
   "cell_type": "code",
   "execution_count": 10,
   "metadata": {},
   "outputs": [
    {
     "data": {
      "image/png": "[encoded data removed]",
      "text/plain": [
       "<Figure size 432x288 with 1 Axes>"
      ]
     },
     "metadata": {
      "needs_background": "light"
     },
     "output_type": "display_data"
    }
   ],
   "source": [
    "# Visualize Data\n",
    "with torch.no_grad():\n",
    "    VISUAL_X = X.detach().cpu().numpy()\n",
    "    VISUAL_Y = Y.detach().cpu().numpy()\n",
    "    plt.plot(VISUAL_X, VISUAL_X)"
   ]
  },
  {
   "cell_type": "code",
   "execution_count": 2,
   "metadata": {},
   "outputs": [],
   "source": [
    "def Get_Data():\n",
    "    X_TRAIN = np.arange(0, 1, 0.01).reshape(-1, 1)\n",
    "    Y_TRAIN = (X_TRAIN * 0.3 + 1).reshape(-1, 1)\n",
    "    \n",
    "    # Pytorch Variable\n",
    "    X = Variable(torch.from_numpy(X_TRAIN).type(torch.FloatTensor))\n",
    "    Y = Variable(torch.from_numpy(Y_TRAIN).type(torch.FloatTensor))\n",
    "    X.to(DEVICE)\n",
    "    Y.to(DEVICE)\n",
    "    \n",
    "    return X, Y"
   ]
  },
  {
   "cell_type": "code",
   "execution_count": 3,
   "metadata": {},
   "outputs": [],
   "source": [
    "def Get_Parameter():\n",
    "    W = Variable(torch.rand(1), requires_grad = True)\n",
    "    B = Variable(torch.rand(1), requires_grad = True)\n",
    "    W.to(DEVICE)\n",
    "    B.to(DEVICE)\n",
    "    \n",
    "    return W, B"
   ]
  },
  {
   "cell_type": "code",
   "execution_count": 4,
   "metadata": {},
   "outputs": [],
   "source": [
    "def Neural_Network():\n",
    "    PREDICTION = torch.matmul(X, W) + B\n",
    "    \n",
    "    return PREDICTION"
   ]
  },
  {
   "cell_type": "code",
   "execution_count": 5,
   "metadata": {},
   "outputs": [],
   "source": [
    "def Loss_Function(Y, PREDICTION):\n",
    "    LOSS = (PREDICTION - Y).pow(2).mean()\n",
    "    \n",
    "    # Reset the gradient in W and B\n",
    "    for PARAMETER in [W, B]:\n",
    "        if not PARAMETER.grad is None:\n",
    "            PARAMETER.grad.data.zero_()\n",
    "            \n",
    "    # Calculate Gradient\n",
    "    LOSS.backward()\n",
    "    \n",
    "    return LOSS"
   ]
  },
  {
   "cell_type": "code",
   "execution_count": 6,
   "metadata": {},
   "outputs": [],
   "source": [
    "def Optimizer(Learning_Rate):\n",
    "    W.data -= Learning_Rate * W.grad\n",
    "    B.data -= Learning_Rate * B.grad\n",
    "    \n",
    "    return W, B"
   ]
  },
  {
   "cell_type": "code",
   "execution_count": 7,
   "metadata": {},
   "outputs": [
    {
     "name": "stdout",
     "output_type": "stream",
     "text": [
      "Loss = tensor(0.0160) Weights = tensor([0.3161]) Biases = tensor([0.9810])\n"
     ]
    }
   ],
   "source": [
    "if __name__ == \"__main__\":\n",
    "    DEVICE = torch.device(\"cuda:0\" if torch.cuda.is_available() else \"cpu\")\n",
    "    \n",
    "    X, Y = Get_Data()\n",
    "    W, B = Get_Parameter()\n",
    "    \n",
    "    for EPOCH in range(300):\n",
    "        PREDICTION = Neural_Network()\n",
    "        LOSS = Loss_Function(Y, PREDICTION)\n",
    "        W, B = Optimizer(0.025)\n",
    "        \n",
    "    print('Loss =', LOSS.data, 'Weights =', W.data, 'Biases =', B.data)"
   ]
  }
 ],
 "metadata": {
  "kernelspec": {
   "display_name": "Python 3",
   "language": "python",
   "name": "python3"
  },
  "language_info": {
   "codemirror_mode": {
    "name": "ipython",
    "version": 3
   },
   "file_extension": ".py",
   "mimetype": "text/x-python",
   "name": "python",
   "nbconvert_exporter": "python",
   "pygments_lexer": "ipython3",
   "version": "3.7.3"
  }
 },
 "nbformat": 4,
 "nbformat_minor": 2
}
