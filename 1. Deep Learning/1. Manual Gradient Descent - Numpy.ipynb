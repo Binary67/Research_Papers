{
 "cells": [
  {
   "cell_type": "code",
   "execution_count": 1,
   "metadata": {},
   "outputs": [],
   "source": [
    "import numpy as np\n",
    "import matplotlib.pyplot as plt\n",
    "import math"
   ]
  },
  {
   "cell_type": "code",
   "execution_count": 2,
   "metadata": {},
   "outputs": [],
   "source": [
    "# Data Preparation\n",
    "X = np.arange(100.0)\n",
    "NOISE = np.random.rand(100)\n",
    "Y = 0.5 * X + NOISE\n",
    "\n",
    "# Random Initialization of Weight\n",
    "W = np.random.randint(100)"
   ]
  },
  {
   "cell_type": "code",
   "execution_count": 3,
   "metadata": {},
   "outputs": [
    {
     "data": {
      "text/plain": [
       "[<matplotlib.lines.Line2D at 0x1a833f62278>]"
      ]
     },
     "execution_count": 3,
     "metadata": {},
     "output_type": "execute_result"
    },
    {
     "data": {
      "image/png": "[encoded data removed]",
      "text/plain": [
       "<Figure size 432x288 with 1 Axes>"
      ]
     },
     "metadata": {
      "needs_background": "light"
     },
     "output_type": "display_data"
    }
   ],
   "source": [
    "# Visualize Data\n",
    "plt.plot(X, Y)"
   ]
  },
  {
   "cell_type": "code",
   "execution_count": 4,
   "metadata": {},
   "outputs": [],
   "source": [
    "def Foward_Prop(X):\n",
    "    return X * W"
   ]
  },
  {
   "cell_type": "code",
   "execution_count": 5,
   "metadata": {},
   "outputs": [],
   "source": [
    "def Loss_Function(X, Y):\n",
    "    PREDICTION = Foward_Prop(X)\n",
    "    LOSS = (PREDICTION - Y) ** 2\n",
    "    return LOSS"
   ]
  },
  {
   "cell_type": "code",
   "execution_count": 6,
   "metadata": {},
   "outputs": [],
   "source": [
    "def Gradient(X, Y):\n",
    "    return 2 * X * (X * W - Y)"
   ]
  },
  {
   "cell_type": "code",
   "execution_count": 7,
   "metadata": {},
   "outputs": [
    {
     "name": "stdout",
     "output_type": "stream",
     "text": [
      "EPOCH 0 LOSS = 1.4490427786748936\n",
      "Weight = 0.5162858270110889\n",
      "\n",
      "EPOCH 1 LOSS = 1.4490427786748936\n",
      "Weight = 0.5162858270110889\n",
      "\n",
      "EPOCH 2 LOSS = 1.4490427786748936\n",
      "Weight = 0.5162858270110889\n",
      "\n",
      "EPOCH 3 LOSS = 1.4490427786748936\n",
      "Weight = 0.5162858270110889\n",
      "\n",
      "EPOCH 4 LOSS = 1.4490427786748936\n",
      "Weight = 0.5162858270110889\n",
      "\n",
      "EPOCH 5 LOSS = 1.4490427786748936\n",
      "Weight = 0.5162858270110889\n",
      "\n",
      "EPOCH 6 LOSS = 1.4490427786748936\n",
      "Weight = 0.5162858270110889\n",
      "\n",
      "EPOCH 7 LOSS = 1.4490427786748936\n",
      "Weight = 0.5162858270110889\n",
      "\n",
      "EPOCH 8 LOSS = 1.4490427786748936\n",
      "Weight = 0.5162858270110889\n",
      "\n",
      "EPOCH 9 LOSS = 1.4490427786748936\n",
      "Weight = 0.5162858270110889\n",
      "\n"
     ]
    }
   ],
   "source": [
    "for EPOCH in range(10):\n",
    "    for X_VAL, Y_VAL in zip(X, Y):\n",
    "        GRADIENT = Gradient(X_VAL, Y_VAL)\n",
    "        W = W - 0.0001 * GRADIENT\n",
    "        LOSS = Loss_Function(X_VAL, Y_VAL)\n",
    "        \n",
    "    print('EPOCH', EPOCH, 'LOSS =', LOSS)\n",
    "    print('Weight =', W)\n",
    "    print()"
   ]
  },
  {
   "cell_type": "code",
   "execution_count": null,
   "metadata": {},
   "outputs": [],
   "source": []
  }
 ],
 "metadata": {
  "kernelspec": {
   "display_name": "Python 3",
   "language": "python",
   "name": "python3"
  },
  "language_info": {
   "codemirror_mode": {
    "name": "ipython",
    "version": 3
   },
   "file_extension": ".py",
   "mimetype": "text/x-python",
   "name": "python",
   "nbconvert_exporter": "python",
   "pygments_lexer": "ipython3",
   "version": "3.7.3"
  }
 },
 "nbformat": 4,
 "nbformat_minor": 2
}
